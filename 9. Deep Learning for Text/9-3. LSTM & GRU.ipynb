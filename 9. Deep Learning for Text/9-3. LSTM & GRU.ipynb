{
  "cells": [
    {
      "cell_type": "code",
      "execution_count": null,
      "metadata": {
        "colab": {
          "base_uri": "https://localhost:8080/"
        },
        "id": "A6qBaakgHY0r",
        "outputId": "8d414eb4-ce2a-460f-ef22-bfa5d46bfe49"
      },
      "outputs": [],
      "source": [
        "from tensorflow.keras.datasets import imdb\n",
        "from sklearn.model_selection import train_test_split\n",
        "(train_input, train_target), (test_input, test_target) = imdb.load_data(num_words = 500)\n",
        "train_input, val_input, train_target, val_target = train_test_split(\n",
        "    train_input, train_target, test_size = 0.2, random_state = 42)"
      ]
    },
    {
      "cell_type": "code",
      "execution_count": null,
      "metadata": {
        "id": "wg0OsqBYIIHf"
      },
      "outputs": [],
      "source": [
        "from tensorflow.keras.preprocessing.sequence import pad_sequences\n",
        "train_seq = pad_sequences(train_input, maxlen = 100)\n",
        "val_seq = pad_sequences(val_input, maxlen = 100)\n",
        "test_seq = pad_sequences(test_input, maxlen = 100)"
      ]
    },
    {
      "cell_type": "code",
      "execution_count": null,
      "metadata": {
        "id": "-l0E2oFeKvCC"
      },
      "outputs": [],
      "source": [
        "from tensorflow import keras\n",
        "model = keras.Sequential()\n",
        "model.add(keras.layers.Embedding(500, 16, input_length = 100))\n",
        "model.add(keras.layers.LSTM(8))\n",
        "model.add(keras.layers.Dense(1, activation = 'sigmoid'))"
      ]
    },
    {
      "cell_type": "code",
      "execution_count": null,
      "metadata": {
        "colab": {
          "base_uri": "https://localhost:8080/"
        },
        "id": "15NhNFz-LFLl",
        "outputId": "76d71f84-752a-4ebb-d4d8-23c64f7ce1c6"
      },
      "outputs": [],
      "source": [
        "model.summary()"
      ]
    },
    {
      "cell_type": "code",
      "execution_count": null,
      "metadata": {
        "colab": {
          "base_uri": "https://localhost:8080/"
        },
        "id": "V1C7K1hLLF6P",
        "outputId": "89685d09-2461-4e05-9ad3-85efe763e4cb"
      },
      "outputs": [],
      "source": [
        "rmsprop = keras.optimizers.RMSprop(learning_rate = 1e-4)\n",
        "model.compile(optimizer = rmsprop, loss = 'binary_crossentropy', metrics = 'accuracy')\n",
        "checkpoint_cb = keras.callbacks.ModelCheckpoint('best-lstm-model.h5')\n",
        "earlystopping_cb = keras.callbacks.EarlyStopping(patience= 3, restore_best_weights= True)\n",
        "history = model.fit(train_seq, train_target, epochs = 100, batch_size = 64,\n",
        "                    validation_data = (val_seq, val_target),\n",
        "                    callbacks = [checkpoint_cb, earlystopping_cb])"
      ]
    },
    {
      "cell_type": "code",
      "execution_count": null,
      "metadata": {
        "colab": {
          "base_uri": "https://localhost:8080/",
          "height": 279
        },
        "id": "XcK_RXkHMMiR",
        "outputId": "c18524ac-31f3-4712-fba9-1d0838a916ca"
      },
      "outputs": [],
      "source": [
        "import matplotlib.pyplot as plt\n",
        "plt.plot(history.history['loss'])\n",
        "plt.plot(history.history['val_loss'])\n",
        "plt.xlabel('epoch')\n",
        "plt.ylabel('loss')\n",
        "plt.legend(['train', 'val'])\n",
        "plt.show()"
      ]
    },
    {
      "cell_type": "code",
      "execution_count": null,
      "metadata": {
        "id": "1H7dGhs8M1nY"
      },
      "outputs": [],
      "source": [
        "model2 = keras.Sequential()\n",
        "model2.add(keras.layers.Embedding(500, 16, input_length = 100))\n",
        "model2.add(keras.layers.LSTM(8, dropout = 0.3))\n",
        "model2.add(keras.layers.Dense(1, activation = 'sigmoid'))"
      ]
    },
    {
      "cell_type": "code",
      "execution_count": null,
      "metadata": {
        "colab": {
          "base_uri": "https://localhost:8080/"
        },
        "id": "eR-T967-NRGV",
        "outputId": "21d9accc-1186-44d1-d6ed-3ed2d2312fba"
      },
      "outputs": [],
      "source": [
        "rmsprop = keras.optimizers.RMSprop(learning_rate = 1e-4)\n",
        "model2.compile(optimizer = rmsprop, loss = 'binary_crossentropy', metrics = 'accuracy')\n",
        "checkpoint_cb = keras.callbacks.ModelCheckpoint('best-lstm-w-dropout-model.h5')\n",
        "earlystopping_cb = keras.callbacks.EarlyStopping(patience= 3, restore_best_weights= True)\n",
        "history = model2.fit(train_seq, train_target, epochs = 100, batch_size = 64,\n",
        "                    validation_data = (val_seq, val_target),\n",
        "                    callbacks = [checkpoint_cb, earlystopping_cb])"
      ]
    },
    {
      "cell_type": "code",
      "execution_count": null,
      "metadata": {
        "colab": {
          "base_uri": "https://localhost:8080/",
          "height": 279
        },
        "id": "hDYfht40Ni6Q",
        "outputId": "02da5384-641a-4070-bfea-8b150cef0102"
      },
      "outputs": [],
      "source": [
        "plt.plot(history.history['loss'])\n",
        "plt.plot(history.history['val_loss'])\n",
        "plt.xlabel('epoch')\n",
        "plt.ylabel('loss')\n",
        "plt.legend(['train', 'val'])\n",
        "plt.show()"
      ]
    },
    {
      "cell_type": "code",
      "execution_count": null,
      "metadata": {
        "id": "kWAbJaK3N9Xk"
      },
      "outputs": [],
      "source": [
        "model3 = keras.Sequential()\n",
        "model3.add(keras.layers.Embedding(500, 16, input_length = 100))\n",
        "model3.add(keras.layers.LSTM(8, dropout = 0.3, return_sequences = True))\n",
        "model3.add(keras.layers.LSTM(8, dropout = 0.3))\n",
        "model3.add(keras.layers.Dense(1, activation = 'sigmoid'))"
      ]
    },
    {
      "cell_type": "code",
      "execution_count": null,
      "metadata": {
        "colab": {
          "base_uri": "https://localhost:8080/"
        },
        "id": "zw2VNlh3OZ9Y",
        "outputId": "eb62f241-4e1b-44f6-c4a8-89e1a0dba3de"
      },
      "outputs": [],
      "source": [
        "model3.summary()"
      ]
    },
    {
      "cell_type": "code",
      "execution_count": null,
      "metadata": {
        "colab": {
          "base_uri": "https://localhost:8080/"
        },
        "id": "KSX-bMZJObqV",
        "outputId": "01f1d723-eea4-4761-f682-2294dc32e723"
      },
      "outputs": [],
      "source": [
        "rmsprop = keras.optimizers.RMSprop(learning_rate = 1e-4)\n",
        "model3.compile(optimizer = rmsprop, loss = 'binary_crossentropy', metrics = 'accuracy')\n",
        "checkpoint_cb = keras.callbacks.ModelCheckpoint('best-2LSTM-model.h5')\n",
        "earlystopping_cb = keras.callbacks.EarlyStopping(patience = 3, restore_best_weights = True)\n",
        "history = model3.fit(train_seq, train_target, epochs = 100, batch_size = 64,\n",
        "                     validation_data = (val_seq, val_target),\n",
        "                     callbacks = [checkpoint_cb, earlystopping_cb])"
      ]
    },
    {
      "cell_type": "code",
      "execution_count": null,
      "metadata": {
        "colab": {
          "base_uri": "https://localhost:8080/",
          "height": 279
        },
        "id": "53urbE9dPhBP",
        "outputId": "c6b7430e-a761-482f-94bf-6069626373bd"
      },
      "outputs": [],
      "source": [
        "plt.plot(history.history['loss'])\n",
        "plt.plot(history.history['val_loss'])\n",
        "plt.xlabel('epoch')\n",
        "plt.ylabel('loss')\n",
        "plt.legend(['train', 'val'])\n",
        "plt.show()"
      ]
    },
    {
      "cell_type": "code",
      "execution_count": null,
      "metadata": {
        "id": "LX7_GkzLPpg6"
      },
      "outputs": [],
      "source": [
        "model4 = keras.Sequential()\n",
        "model4.add(keras.layers.Embedding(500, 16, input_length = 100))\n",
        "model4.add(keras.layers.GRU(8))\n",
        "model4.add(keras.layers.Dense(1, activation = 'sigmoid'))"
      ]
    },
    {
      "cell_type": "code",
      "execution_count": null,
      "metadata": {
        "colab": {
          "base_uri": "https://localhost:8080/"
        },
        "id": "ZHB-eaT1P23r",
        "outputId": "bee35f30-0d62-4215-c3ea-7b536fb6f481"
      },
      "outputs": [],
      "source": [
        "model4.summary()"
      ]
    },
    {
      "cell_type": "code",
      "execution_count": null,
      "metadata": {
        "colab": {
          "base_uri": "https://localhost:8080/"
        },
        "id": "5hwttNGsRAZo",
        "outputId": "360c1342-0e46-4e2b-d4ae-b718c868e83b"
      },
      "outputs": [],
      "source": [
        "rmsprop = keras.optimizers.RMSprop(learning_rate = 1e-4)\n",
        "model4.compile(optimizer = rmsprop, loss = 'binary_crossentropy', metrics = 'accuracy')\n",
        "checkpoint_cb = keras.callbacks.ModelCheckpoint('best-gru-model.h5')\n",
        "earlystopping_cb = keras.callbacks.EarlyStopping(patience = 3, restore_best_weights = True)\n",
        "history = model4.fit(train_seq, train_target, epochs = 100, batch_size = 64,\n",
        "                     validation_data = (val_seq, val_target),\n",
        "                     callbacks = [checkpoint_cb, earlystopping_cb])"
      ]
    },
    {
      "cell_type": "code",
      "execution_count": null,
      "metadata": {
        "colab": {
          "base_uri": "https://localhost:8080/",
          "height": 279
        },
        "id": "HMoTycPnRMiM",
        "outputId": "65bb7785-e075-40ff-f2e7-83fd0fb99338"
      },
      "outputs": [],
      "source": [
        "plt.plot(history.history['loss'])\n",
        "plt.plot(history.history['val_loss'])\n",
        "plt.xlabel('epoch')\n",
        "plt.ylabel('loss')\n",
        "plt.legend(['train', 'val'])\n",
        "plt.show()"
      ]
    },
    {
      "cell_type": "code",
      "execution_count": null,
      "metadata": {
        "colab": {
          "base_uri": "https://localhost:8080/"
        },
        "id": "54rm6OGnRNsN",
        "outputId": "8c6c44a2-68ef-45d6-8fb4-622afd9da469"
      },
      "outputs": [],
      "source": [
        "rnn_model = keras.models.load_model('best-2LSTM-model.h5')\n",
        "rnn_model.evaluate(test_seq, test_target)"
      ]
    }
  ],
  "metadata": {
    "accelerator": "GPU",
    "colab": {
      "collapsed_sections": [],
      "name": "Untitled3.ipynb",
      "provenance": []
    },
    "kernelspec": {
      "display_name": "Python 3",
      "name": "python3"
    },
    "language_info": {
      "name": "python"
    }
  },
  "nbformat": 4,
  "nbformat_minor": 0
}
