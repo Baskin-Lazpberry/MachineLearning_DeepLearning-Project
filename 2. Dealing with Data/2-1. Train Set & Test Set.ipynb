{
  "cells": [
    {
      "cell_type": "code",
      "execution_count": null,
      "metadata": {
        "id": "gMZXrcy7jlzC"
      },
      "outputs": [],
      "source": [
        "fish_length = [25.4, 26.3, 26.5, 29.0, 29.0, 29.7, 29.7, 30.0, 30.0, 30.7, 31.0, 31.0, \n",
        "                31.5, 32.0, 32.0, 32.0, 33.0, 33.0, 33.5, 33.5, 34.0, 34.0, 34.5, 35.0, \n",
        "                35.0, 35.0, 35.0, 36.0, 36.0, 37.0, 38.5, 38.5, 39.5, 41.0, 41.0, 9.8, \n",
        "                10.5, 10.6, 11.0, 11.2, 11.3, 11.8, 11.8, 12.0, 12.2, 12.4, 13.0, 14.3, 15.0]\n",
        "fish_weight = [242.0, 290.0, 340.0, 363.0, 430.0, 450.0, 500.0, 390.0, 450.0, 500.0, 475.0, 500.0, \n",
        "                500.0, 340.0, 600.0, 600.0, 700.0, 700.0, 610.0, 650.0, 575.0, 685.0, 620.0, 680.0, \n",
        "                700.0, 725.0, 720.0, 714.0, 850.0, 1000.0, 920.0, 955.0, 925.0, 975.0, 950.0, 6.7, \n",
        "                7.5, 7.0, 9.7, 9.8, 8.7, 10.0, 9.9, 9.8, 12.2, 13.4, 12.2, 19.7, 19.9]"
      ]
    },
    {
      "cell_type": "code",
      "execution_count": null,
      "metadata": {
        "id": "Jc-ps4wAj1Vo"
      },
      "outputs": [],
      "source": [
        "fish_data = [[l,w] for l, w in zip(fish_length, fish_weight)]\n",
        "fish_target = [1] * 35 + [0] * 14"
      ]
    },
    {
      "cell_type": "code",
      "execution_count": null,
      "metadata": {
        "id": "IObGXU4ykT3Y"
      },
      "outputs": [],
      "source": [
        "from sklearn.neighbors import KNeighborsClassifier as KNC\n",
        "kn = KNC()"
      ]
    },
    {
      "cell_type": "code",
      "execution_count": null,
      "metadata": {
        "id": "NcyWZ5kQkhGh"
      },
      "outputs": [],
      "source": [
        "print(fish_data[:5])"
      ]
    },
    {
      "cell_type": "code",
      "execution_count": null,
      "metadata": {
        "id": "ZbzvVYGKks4l"
      },
      "outputs": [],
      "source": [
        "print(fish_data[44:])"
      ]
    },
    {
      "cell_type": "code",
      "execution_count": null,
      "metadata": {
        "id": "PdBfHdtpk4XS"
      },
      "outputs": [],
      "source": [
        "kn = kn.fit(fish_data[:35], fish_target[:35])\n",
        "kn.score(fish_data[35:], fish_target[35:])"
      ]
    },
    {
      "cell_type": "code",
      "execution_count": null,
      "metadata": {
        "id": "HQFuCb13lYNA"
      },
      "outputs": [],
      "source": [
        "import numpy as np"
      ]
    },
    {
      "cell_type": "code",
      "execution_count": null,
      "metadata": {
        "id": "XJQH4sefmElR"
      },
      "outputs": [],
      "source": [
        "input_arr = np.array(fish_data)\n",
        "target_arr = np.array(fish_target)"
      ]
    },
    {
      "cell_type": "code",
      "execution_count": null,
      "metadata": {
        "id": "WL3bi1N0mOrA"
      },
      "outputs": [],
      "source": [
        "print(input_arr)"
      ]
    },
    {
      "cell_type": "code",
      "execution_count": null,
      "metadata": {
        "id": "C8V6kdzQmR-w"
      },
      "outputs": [],
      "source": [
        "print(input_arr.shape)"
      ]
    },
    {
      "cell_type": "code",
      "execution_count": null,
      "metadata": {
        "id": "Zopz_9GUmYt5"
      },
      "outputs": [],
      "source": [
        "np.random.seed(42)\n",
        "index = np.arange(49)\n",
        "np.random.shuffle(index)"
      ]
    },
    {
      "cell_type": "code",
      "execution_count": null,
      "metadata": {
        "id": "KGloGqiVnDBK"
      },
      "outputs": [],
      "source": [
        "print(index)"
      ]
    },
    {
      "cell_type": "code",
      "execution_count": null,
      "metadata": {
        "id": "At58yP1hnEaP"
      },
      "outputs": [],
      "source": [
        "print(input_arr[[1,3]])"
      ]
    },
    {
      "cell_type": "code",
      "execution_count": null,
      "metadata": {
        "id": "5UBgwEJYnR5h"
      },
      "outputs": [],
      "source": [
        "train_input = input_arr[index[:35]]\n",
        "train_target = target_arr[index[:35]]"
      ]
    },
    {
      "cell_type": "code",
      "execution_count": null,
      "metadata": {
        "colab": {
          "base_uri": "https://localhost:8080/"
        },
        "id": "uYBy5LeBnkTs",
        "outputId": "cbe055f1-0015-43f8-9eb5-2250da03fe02"
      },
      "outputs": [],
      "source": [
        "print(input_arr[13], train_input[0])"
      ]
    },
    {
      "cell_type": "code",
      "execution_count": null,
      "metadata": {
        "id": "zAYvonm3ntj_"
      },
      "outputs": [],
      "source": [
        "test_input = input_arr[index[35:]]\n",
        "test_target= target_arr[index[35:]]"
      ]
    },
    {
      "cell_type": "code",
      "execution_count": null,
      "metadata": {
        "id": "vwkMEgnun18B"
      },
      "outputs": [],
      "source": [
        "import matplotlib.pyplot as plt\n",
        "plt.scatter(train_input[:,0], train_input[:,1])\n",
        "plt.scatter(test_input[:,0], test_input[:,1])\n",
        "plt.xlabel('length')\n",
        "plt.ylabel('weight')\n",
        "plt.show()"
      ]
    },
    {
      "cell_type": "code",
      "execution_count": null,
      "metadata": {
        "id": "hfmeaMFIocZR"
      },
      "outputs": [],
      "source": [
        "kn = kn.fit(train_input, train_target)"
      ]
    },
    {
      "cell_type": "code",
      "execution_count": null,
      "metadata": {
        "colab": {
          "base_uri": "https://localhost:8080/"
        },
        "id": "0JcS5x-HolQH",
        "outputId": "cf182744-356f-4cef-a160-04ed620dddb9"
      },
      "outputs": [],
      "source": [
        "kn.score(test_input, test_target)"
      ]
    },
    {
      "cell_type": "code",
      "execution_count": null,
      "metadata": {
        "colab": {
          "base_uri": "https://localhost:8080/"
        },
        "id": "qRZv6Zx2ooSh",
        "outputId": "00440235-6e29-46c0-f2e9-f2b2763acf94"
      },
      "outputs": [],
      "source": [
        "kn.predict(test_input)"
      ]
    },
    {
      "cell_type": "code",
      "execution_count": null,
      "metadata": {
        "colab": {
          "base_uri": "https://localhost:8080/"
        },
        "id": "UUUqOWvzotCg",
        "outputId": "b8c1019e-ac12-4e1e-9910-9a31b5a1e170"
      },
      "outputs": [],
      "source": [
        "test_target"
      ]
    },
    {
      "cell_type": "code",
      "execution_count": null,
      "metadata": {
        "id": "rlYmxn6ooxBA"
      },
      "outputs": [],
      "source": []
    }
  ],
  "metadata": {
    "colab": {
      "collapsed_sections": [],
      "name": "BreamAndSmelt.ipynb",
      "provenance": []
    },
    "kernelspec": {
      "display_name": "Python 3",
      "name": "python3"
    },
    "language_info": {
      "name": "python"
    }
  },
  "nbformat": 4,
  "nbformat_minor": 0
}
