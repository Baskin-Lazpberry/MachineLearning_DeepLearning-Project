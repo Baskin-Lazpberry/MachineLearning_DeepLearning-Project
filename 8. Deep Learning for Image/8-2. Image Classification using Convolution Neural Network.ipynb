{
  "cells": [
    {
      "cell_type": "code",
      "execution_count": null,
      "metadata": {
        "colab": {
          "base_uri": "https://localhost:8080/"
        },
        "id": "dNyMdIsYfS1Z",
        "outputId": "c1cc8652-b2ca-42bb-e63f-be6d652dee2c"
      },
      "outputs": [],
      "source": [
        "from tensorflow import keras\n",
        "from sklearn.model_selection import train_test_split\n",
        "(train_input, train_target), (test_input, test_target) =\\\n",
        "  keras.datasets.fashion_mnist.load_data()\n",
        "train_scaled = train_input.reshape(-1, 28, 28, 1) / 255.0\n",
        "train_scaled, val_scaled, train_target, val_target = train_test_split(train_scaled, train_target,\n",
        "                                                                      test_size = 0.2, random_state = 42)"
      ]
    },
    {
      "cell_type": "code",
      "execution_count": null,
      "metadata": {
        "id": "gweCKtjxg1lU"
      },
      "outputs": [],
      "source": [
        "model = keras.Sequential()\n",
        "model.add(keras.layers.Conv2D(32, kernel_size = 3, activation = 'relu',\n",
        "                             padding = 'same', input_shape = (28, 28, 1)))"
      ]
    },
    {
      "cell_type": "code",
      "execution_count": null,
      "metadata": {
        "id": "LLOUi2T9hti8"
      },
      "outputs": [],
      "source": [
        "model.add(keras.layers.MaxPooling2D(2))"
      ]
    },
    {
      "cell_type": "code",
      "execution_count": null,
      "metadata": {
        "id": "wpHfOf-sh9K4"
      },
      "outputs": [],
      "source": [
        "model.add(keras.layers.Conv2D(64, kernel_size = 3, padding = 'same', activation = 'relu'))\n",
        "model.add(keras.layers.MaxPooling2D(2))"
      ]
    },
    {
      "cell_type": "code",
      "execution_count": null,
      "metadata": {
        "id": "3rOxTZbJiXVd"
      },
      "outputs": [],
      "source": [
        "model.add(keras.layers.Flatten())\n",
        "model.add(keras.layers.Dense(100, activation = 'relu'))\n",
        "model.add(keras.layers.Dropout(0.4))\n",
        "model.add(keras.layers.Dense(10, activation = 'softmax'))"
      ]
    },
    {
      "cell_type": "code",
      "execution_count": null,
      "metadata": {
        "colab": {
          "base_uri": "https://localhost:8080/"
        },
        "id": "3oOvEDgzigX3",
        "outputId": "716f4ccb-272b-4b97-96e0-fb4399797810"
      },
      "outputs": [],
      "source": [
        "model.summary()"
      ]
    },
    {
      "cell_type": "code",
      "execution_count": null,
      "metadata": {
        "colab": {
          "base_uri": "https://localhost:8080/",
          "height": 856
        },
        "id": "zXgrhQ1Oi4r_",
        "outputId": "d7b0cf3a-2c90-49f9-fca7-fe19b24bd5ee"
      },
      "outputs": [],
      "source": [
        "keras.utils.plot_model(model)"
      ]
    },
    {
      "cell_type": "code",
      "execution_count": null,
      "metadata": {
        "colab": {
          "base_uri": "https://localhost:8080/",
          "height": 1000
        },
        "id": "1vSnoCPHjMbN",
        "outputId": "155c69b9-dda7-407b-c846-81775613ac45"
      },
      "outputs": [],
      "source": [
        "keras.utils.plot_model(model, show_shapes = True,\n",
        "                       to_file = 'cnn-architecture.png', dpi = 300)"
      ]
    },
    {
      "cell_type": "code",
      "execution_count": null,
      "metadata": {
        "colab": {
          "base_uri": "https://localhost:8080/"
        },
        "id": "8q5Au94GjkJN",
        "outputId": "68872ec0-aa6b-4f83-8e9e-f10de60ad927"
      },
      "outputs": [],
      "source": [
        "model.compile(optimizer = 'adam', loss = 'sparse_categorical_crossentropy', metrics = 'accuracy')\n",
        "checkpoint_cb = keras.callbacks.ModelCheckpoint('best-cnn-model.h5')\n",
        "earlystopping_cb = keras.callbacks.EarlyStopping(patience = 2, restore_best_weights = True)\n",
        "\n",
        "history = model.fit(train_scaled, train_target, epochs = 20,\n",
        "                    validation_data = (val_scaled, val_target),\n",
        "                    callbacks = [checkpoint_cb, earlystopping_cb])"
      ]
    },
    {
      "cell_type": "code",
      "execution_count": null,
      "metadata": {
        "colab": {
          "base_uri": "https://localhost:8080/",
          "height": 279
        },
        "id": "78QlejGck4Nb",
        "outputId": "e56c7d91-286c-48ee-e064-ecdb834a29e5"
      },
      "outputs": [],
      "source": [
        "import matplotlib.pyplot as plt\n",
        "plt.plot(history.history['loss'])\n",
        "plt.plot(history.history['val_loss'])\n",
        "plt.xlabel('epoch')\n",
        "plt.ylabel('loss')\n",
        "plt.show()"
      ]
    },
    {
      "cell_type": "code",
      "execution_count": null,
      "metadata": {
        "colab": {
          "base_uri": "https://localhost:8080/"
        },
        "id": "P2rZiE8gl6Di",
        "outputId": "dcc51e9e-2d06-47e9-811a-e03f83fd95ac"
      },
      "outputs": [],
      "source": [
        "model.evaluate(val_scaled, val_target)"
      ]
    },
    {
      "cell_type": "code",
      "execution_count": null,
      "metadata": {
        "colab": {
          "base_uri": "https://localhost:8080/",
          "height": 265
        },
        "id": "Xp39T7M0mAKf",
        "outputId": "08acc4b8-55c5-4ec8-b75f-655de602460e"
      },
      "outputs": [],
      "source": [
        "plt.imshow(val_scaled[0].reshape(28, 28), cmap = 'gray_r')\n",
        "plt.show()"
      ]
    },
    {
      "cell_type": "code",
      "execution_count": null,
      "metadata": {
        "colab": {
          "base_uri": "https://localhost:8080/"
        },
        "id": "dO629NxOmMKP",
        "outputId": "3747a236-e7e1-4a34-e2c8-fc8f09ab92e1"
      },
      "outputs": [],
      "source": [
        "preds = model.predict(val_scaled[0:1])\n",
        "print(preds)"
      ]
    },
    {
      "cell_type": "code",
      "execution_count": null,
      "metadata": {
        "colab": {
          "base_uri": "https://localhost:8080/",
          "height": 279
        },
        "id": "wAg8JgRPmSRf",
        "outputId": "0d0be063-0bf8-4b9a-dd3e-796c013ab8e3"
      },
      "outputs": [],
      "source": [
        "plt.bar(range(1,11), preds[0])\n",
        "plt.xlabel('class')\n",
        "plt.ylabel('probability')\n",
        "plt.show()"
      ]
    },
    {
      "cell_type": "code",
      "execution_count": null,
      "metadata": {
        "id": "7k86KR2SmqUX"
      },
      "outputs": [],
      "source": [
        "classes = ['T-Shirt', 'Pants', 'Sweater', 'Dress', 'Coat', 'Sandles', 'Shirt', 'Sneakers', 'Bag', 'Ankle Boots']"
      ]
    },
    {
      "cell_type": "code",
      "execution_count": null,
      "metadata": {
        "colab": {
          "base_uri": "https://localhost:8080/"
        },
        "id": "x5nvtM_Emi6O",
        "outputId": "03186af2-84fe-4b8a-cdd8-723d2f996035"
      },
      "outputs": [],
      "source": [
        "import numpy as np\n",
        "print(classes[np.argmax(preds)])"
      ]
    },
    {
      "cell_type": "code",
      "execution_count": null,
      "metadata": {
        "id": "jjARjONfnSAz"
      },
      "outputs": [],
      "source": [
        "test_scaled = test_input.reshape(-1, 28, 28, 1) / 255.0"
      ]
    },
    {
      "cell_type": "code",
      "execution_count": null,
      "metadata": {
        "colab": {
          "base_uri": "https://localhost:8080/"
        },
        "id": "XW2jkvcnngtd",
        "outputId": "80d912bd-d156-41f1-b746-afe6f8fc96ac"
      },
      "outputs": [],
      "source": [
        "model.evaluate(test_scaled, test_target)"
      ]
    },
    {
      "cell_type": "code",
      "execution_count": null,
      "metadata": {
        "id": "wL4OTjpHnkRL"
      },
      "outputs": [],
      "source": []
    }
  ],
  "metadata": {
    "accelerator": "GPU",
    "colab": {
      "collapsed_sections": [],
      "name": "Untitled2.ipynb",
      "provenance": []
    },
    "kernelspec": {
      "display_name": "Python 3",
      "name": "python3"
    },
    "language_info": {
      "name": "python"
    }
  },
  "nbformat": 4,
  "nbformat_minor": 0
}
