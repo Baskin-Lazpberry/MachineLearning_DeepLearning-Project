{
  "cells": [
    {
      "cell_type": "code",
      "execution_count": null,
      "metadata": {
        "colab": {
          "base_uri": "https://localhost:8080/"
        },
        "id": "MNi6CpWR5pYl",
        "outputId": "56bd89c0-b0f5-4fb1-a870-615afdc5ae1a"
      },
      "outputs": [],
      "source": [
        "from tensorflow import keras\n",
        "(train_input, train_target), (test_input, test_target) = keras.datasets.fashion_mnist.load_data()"
      ]
    },
    {
      "cell_type": "code",
      "execution_count": null,
      "metadata": {
        "colab": {
          "base_uri": "https://localhost:8080/"
        },
        "id": "PoNL9eEqS-8j",
        "outputId": "a89135a1-7409-469d-93aa-b48a34d3f09f"
      },
      "outputs": [],
      "source": [
        "print(train_input.shape, train_target.shape)"
      ]
    },
    {
      "cell_type": "code",
      "execution_count": null,
      "metadata": {
        "colab": {
          "base_uri": "https://localhost:8080/"
        },
        "id": "oOzLkdKYTVS-",
        "outputId": "1995839e-587e-475a-e941-ee672560e1bd"
      },
      "outputs": [],
      "source": [
        "print(test_input.shape, test_target.shape)"
      ]
    },
    {
      "cell_type": "code",
      "execution_count": null,
      "metadata": {
        "colab": {
          "base_uri": "https://localhost:8080/",
          "height": 78
        },
        "id": "X7DyP-0aTak-",
        "outputId": "99770d18-ff05-4aef-be73-47d8ae4c790c"
      },
      "outputs": [],
      "source": [
        "import matplotlib.pyplot as plt\n",
        "fig, axs = plt.subplots(1, 10, figsize = (10, 10))\n",
        "for i in range (10):\n",
        "  axs[i].imshow(train_input[i], cmap = 'gray_r')\n",
        "  axs[i].axis('off')\n",
        "plt.show()"
      ]
    },
    {
      "cell_type": "code",
      "execution_count": null,
      "metadata": {
        "colab": {
          "base_uri": "https://localhost:8080/"
        },
        "id": "2blyZ0ZYTvqX",
        "outputId": "2787611a-8059-4eaa-f7e8-3351c89a4560"
      },
      "outputs": [],
      "source": [
        "print([train_target[i] for i in range(10)])"
      ]
    },
    {
      "cell_type": "code",
      "execution_count": null,
      "metadata": {
        "colab": {
          "base_uri": "https://localhost:8080/"
        },
        "id": "lYK979JKT05u",
        "outputId": "d8378e4e-de6a-428c-f27a-d9ddc6d01fb5"
      },
      "outputs": [],
      "source": [
        "import numpy as np\n",
        "print(np.unique(train_target, return_counts = True))"
      ]
    },
    {
      "cell_type": "code",
      "execution_count": null,
      "metadata": {
        "id": "4GngQ96JUDhG"
      },
      "outputs": [],
      "source": [
        "train_scaled = train_input / 255.0\n",
        "train_scaled = train_scaled.reshape(-1, 28*28)"
      ]
    },
    {
      "cell_type": "code",
      "execution_count": null,
      "metadata": {
        "colab": {
          "base_uri": "https://localhost:8080/"
        },
        "id": "QVzaYKG6UMf2",
        "outputId": "d899605c-2997-4481-a32b-258b119434dc"
      },
      "outputs": [],
      "source": [
        "print(train_scaled.shape)"
      ]
    },
    {
      "cell_type": "code",
      "execution_count": null,
      "metadata": {
        "colab": {
          "base_uri": "https://localhost:8080/"
        },
        "id": "fY4QogNZUO4-",
        "outputId": "ffcf76e4-d6ea-4f54-e75f-1e8f85ae3125"
      },
      "outputs": [],
      "source": [
        "from sklearn.linear_model import SGDClassifier\n",
        "from sklearn.model_selection import cross_validate\n",
        "sc = SGDClassifier(loss = 'log', random_state = 42, max_iter = 5)\n",
        "scores = cross_validate(sc, train_scaled, train_target, n_jobs = -1)\n",
        "print(np.mean(scores['test_score']))"
      ]
    },
    {
      "cell_type": "code",
      "execution_count": null,
      "metadata": {
        "colab": {
          "base_uri": "https://localhost:8080/"
        },
        "id": "AYzZOvqnU1if",
        "outputId": "57770e0b-9285-4a81-dd86-d60d2a251908"
      },
      "outputs": [],
      "source": [
        "sc = SGDClassifier(loss = 'log', random_state = 42, max_iter = 10)\n",
        "scores = cross_validate(sc, train_scaled, train_target, n_jobs = -1, return_train_score = True)\n",
        "print(np.mean(scores['train_score']))\n",
        "print(np.mean(scores['test_score']))\n",
        "print(np.mean(scores['fit_time']))"
      ]
    },
    {
      "cell_type": "code",
      "execution_count": null,
      "metadata": {
        "id": "jtrmzTplVP2Q"
      },
      "outputs": [],
      "source": [
        "import tensorflow as tf"
      ]
    },
    {
      "cell_type": "code",
      "execution_count": null,
      "metadata": {
        "id": "AniGqrkIVmvG"
      },
      "outputs": [],
      "source": [
        "from tensorflow import keras"
      ]
    },
    {
      "cell_type": "code",
      "execution_count": null,
      "metadata": {
        "id": "ZHemtsWuVpQ-"
      },
      "outputs": [],
      "source": [
        "from sklearn.model_selection import train_test_split\n",
        "train_scaled, val_scaled, train_target, val_target = train_test_split(\n",
        "    train_scaled, train_target, test_size = 0.2, random_state = 42)"
      ]
    },
    {
      "cell_type": "code",
      "execution_count": null,
      "metadata": {
        "colab": {
          "base_uri": "https://localhost:8080/"
        },
        "id": "eJdl6iQQWDaY",
        "outputId": "b1517809-b92c-418a-a7cf-b3669d397593"
      },
      "outputs": [],
      "source": [
        "print(train_scaled.shape, train_target.shape)"
      ]
    },
    {
      "cell_type": "code",
      "execution_count": null,
      "metadata": {
        "colab": {
          "base_uri": "https://localhost:8080/"
        },
        "id": "U3BTlMrDWeXY",
        "outputId": "3df75a82-53f0-4e78-a238-85feca0dfcb9"
      },
      "outputs": [],
      "source": [
        "print(val_scaled.shape, val_target.shape)"
      ]
    },
    {
      "cell_type": "code",
      "execution_count": null,
      "metadata": {
        "id": "ekNXcVIcWzwz"
      },
      "outputs": [],
      "source": [
        "dense = keras.layers.Dense(10, activation = 'softmax', input_shape = (784,))"
      ]
    },
    {
      "cell_type": "code",
      "execution_count": null,
      "metadata": {
        "id": "M0ZnSTcgXCTj"
      },
      "outputs": [],
      "source": [
        "model = keras.Sequential(dense)"
      ]
    },
    {
      "cell_type": "code",
      "execution_count": null,
      "metadata": {
        "id": "2asSgP1nXE0G"
      },
      "outputs": [],
      "source": [
        "model.compile(loss = 'sparse_categorical_crossentropy', metrics = 'accuracy')"
      ]
    },
    {
      "cell_type": "code",
      "execution_count": null,
      "metadata": {
        "colab": {
          "base_uri": "https://localhost:8080/"
        },
        "id": "86Ekq94LYG5u",
        "outputId": "fe29eacf-8c8e-4540-e562-c0f6f3395f3a"
      },
      "outputs": [],
      "source": [
        "print(train_target[:10])"
      ]
    },
    {
      "cell_type": "code",
      "execution_count": null,
      "metadata": {
        "colab": {
          "base_uri": "https://localhost:8080/"
        },
        "id": "5jae7clhYwt3",
        "outputId": "8ac95f61-a602-4125-c2c7-c75b5e182b3a"
      },
      "outputs": [],
      "source": [
        "model.fit(train_scaled, train_target, epochs = 5)"
      ]
    },
    {
      "cell_type": "code",
      "execution_count": null,
      "metadata": {
        "colab": {
          "base_uri": "https://localhost:8080/"
        },
        "id": "6TnKoKANY--v",
        "outputId": "c6d261b1-fbca-4118-8be7-02000a115032"
      },
      "outputs": [],
      "source": [
        "model.evaluate(val_scaled, val_target)"
      ]
    }
  ],
  "metadata": {
    "accelerator": "GPU",
    "colab": {
      "name": "Untitled3.ipynb",
      "provenance": []
    },
    "kernelspec": {
      "display_name": "Python 3",
      "name": "python3"
    },
    "language_info": {
      "name": "python"
    }
  },
  "nbformat": 4,
  "nbformat_minor": 0
}
