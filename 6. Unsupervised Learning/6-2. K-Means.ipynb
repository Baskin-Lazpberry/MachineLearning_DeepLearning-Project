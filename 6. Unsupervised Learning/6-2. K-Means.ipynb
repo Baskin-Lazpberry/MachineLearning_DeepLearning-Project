{
  "cells": [
    {
      "cell_type": "code",
      "execution_count": null,
      "metadata": {
        "colab": {
          "base_uri": "https://localhost:8080/"
        },
        "id": "IAMRSYH_WHkf",
        "outputId": "c759db36-6837-499b-b4d5-28b51842f5f8"
      },
      "outputs": [],
      "source": [
        "!wget https://bit.ly/fruits_300_data -O fruits_300.npy"
      ]
    },
    {
      "cell_type": "code",
      "execution_count": null,
      "metadata": {
        "id": "lwuYIt5nWOk3"
      },
      "outputs": [],
      "source": [
        "import numpy as np\n",
        "fruits = np.load('fruits_300.npy')\n",
        "fruits_2d = fruits.reshape(-1, 100*100)"
      ]
    },
    {
      "cell_type": "code",
      "execution_count": null,
      "metadata": {
        "colab": {
          "base_uri": "https://localhost:8080/"
        },
        "id": "ifRbFNpUWXjV",
        "outputId": "3164d996-dc17-49c5-d51f-5a660fd02c67"
      },
      "outputs": [],
      "source": [
        "from sklearn.cluster import KMeans\n",
        "km = KMeans(n_clusters = 3, random_state = 42)\n",
        "km.fit(fruits_2d)"
      ]
    },
    {
      "cell_type": "code",
      "execution_count": null,
      "metadata": {
        "colab": {
          "base_uri": "https://localhost:8080/"
        },
        "id": "pksekg-RWfad",
        "outputId": "10fc5285-4e56-4dca-a81e-fda3f805fd82"
      },
      "outputs": [],
      "source": [
        "print(km.labels_)"
      ]
    },
    {
      "cell_type": "code",
      "execution_count": null,
      "metadata": {
        "colab": {
          "base_uri": "https://localhost:8080/"
        },
        "id": "aAtzETMHW2bm",
        "outputId": "7fa7a6e1-f433-4afa-d20f-f7bfb00a5958"
      },
      "outputs": [],
      "source": [
        "print(np.unique(km.labels_, return_counts = True))"
      ]
    },
    {
      "cell_type": "code",
      "execution_count": null,
      "metadata": {
        "id": "cu-5Pp5bW-zO"
      },
      "outputs": [],
      "source": [
        "import matplotlib.pyplot as plt\n",
        "def draw_fruits(arr, ratio = 1):\n",
        "  n = len(arr)\n",
        "  rows = int(np.ceil(n / 10))\n",
        "  cols = n if rows < 2 else 10\n",
        "  fig, axs = plt.subplots(rows, cols,\n",
        "                          figsize = (cols * ratio, rows * ratio), squeeze = False)\n",
        "  for i in range(rows):\n",
        "    for j in range(cols):\n",
        "        if i*10 + j < n:\n",
        "          axs[i, j].imshow(arr[i * 10 + j], cmap = 'gray_r')\n",
        "        axs[i, j].axis('off')\n",
        "  plt.show()"
      ]
    },
    {
      "cell_type": "code",
      "execution_count": null,
      "metadata": {
        "colab": {
          "base_uri": "https://localhost:8080/",
          "height": 683
        },
        "id": "G537imCtYfk-",
        "outputId": "dd540d94-133f-427b-8797-ce4b377ba486"
      },
      "outputs": [],
      "source": [
        "draw_fruits(fruits[km.labels_ == 0])"
      ]
    },
    {
      "cell_type": "code",
      "execution_count": null,
      "metadata": {
        "colab": {
          "base_uri": "https://localhost:8080/",
          "height": 574
        },
        "id": "pUBAlV04X2C3",
        "outputId": "7ad43567-7b6e-4f01-8668-ba096d9f21bb"
      },
      "outputs": [],
      "source": [
        "draw_fruits(fruits[km.labels_ == 1])"
      ]
    },
    {
      "cell_type": "code",
      "execution_count": null,
      "metadata": {
        "colab": {
          "base_uri": "https://localhost:8080/",
          "height": 574
        },
        "id": "xrUrIV_QZMHf",
        "outputId": "faedcf4b-98b2-410e-ee04-93b8c9499777"
      },
      "outputs": [],
      "source": [
        "draw_fruits(fruits[km.labels_ == 2])"
      ]
    },
    {
      "cell_type": "code",
      "execution_count": null,
      "metadata": {
        "colab": {
          "base_uri": "https://localhost:8080/",
          "height": 179
        },
        "id": "plQdZuLlZOT-",
        "outputId": "7d2e19e6-9410-4077-b88d-6fb7cee7edf2"
      },
      "outputs": [],
      "source": [
        "draw_fruits(km.cluster_centers_.reshape(-1, 100, 100), ratio = 3)"
      ]
    },
    {
      "cell_type": "code",
      "execution_count": null,
      "metadata": {
        "colab": {
          "base_uri": "https://localhost:8080/"
        },
        "id": "pNQ0loahZrvW",
        "outputId": "75322ab4-f5be-47d1-ba41-1e7555d31223"
      },
      "outputs": [],
      "source": [
        "print(km.transform(fruits_2d[100:101]))"
      ]
    },
    {
      "cell_type": "code",
      "execution_count": null,
      "metadata": {
        "colab": {
          "base_uri": "https://localhost:8080/"
        },
        "id": "Lvq07tP2aA-v",
        "outputId": "fa7e3cf3-13d2-456f-d86a-5f3c3fa305e4"
      },
      "outputs": [],
      "source": [
        "print(km.predict(fruits_2d[100:101]))"
      ]
    },
    {
      "cell_type": "code",
      "execution_count": null,
      "metadata": {
        "colab": {
          "base_uri": "https://localhost:8080/",
          "height": 85
        },
        "id": "i0-lYtqyaOf2",
        "outputId": "cfc64ca1-6399-4299-8e10-2975fcd5d26e"
      },
      "outputs": [],
      "source": [
        "draw_fruits(fruits[100:101])"
      ]
    },
    {
      "cell_type": "code",
      "execution_count": null,
      "metadata": {
        "colab": {
          "base_uri": "https://localhost:8080/"
        },
        "id": "1JuYTi-6aUH-",
        "outputId": "be46781c-e47e-4359-ccf7-2de628c57f3e"
      },
      "outputs": [],
      "source": [
        "print(km.n_iter_)"
      ]
    },
    {
      "cell_type": "code",
      "execution_count": null,
      "metadata": {
        "colab": {
          "base_uri": "https://localhost:8080/",
          "height": 290
        },
        "id": "MHdmKSV8aYuO",
        "outputId": "ee34d951-8b8c-4dec-9c82-5b96b629b386"
      },
      "outputs": [],
      "source": [
        "inertia = []\n",
        "for k in range(2, 7):\n",
        "  km = KMeans(n_clusters = k, random_state = 42)\n",
        "  km.fit(fruits_2d)\n",
        "  inertia.append(km.inertia_)\n",
        "plt.plot(range(2, 7), inertia)\n",
        "plt.xlabel('k')\n",
        "plt.ylabel('inertia')\n",
        "plt.show()"
      ]
    }
  ],
  "metadata": {
    "colab": {
      "collapsed_sections": [],
      "name": "Untitled2.ipynb",
      "provenance": []
    },
    "kernelspec": {
      "display_name": "Python 3",
      "name": "python3"
    },
    "language_info": {
      "name": "python"
    }
  },
  "nbformat": 4,
  "nbformat_minor": 0
}
