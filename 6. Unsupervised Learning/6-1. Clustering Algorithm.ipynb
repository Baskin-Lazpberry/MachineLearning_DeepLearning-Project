{
  "cells": [
    {
      "cell_type": "code",
      "execution_count": null,
      "metadata": {
        "id": "zPUiKj96E-9g"
      },
      "outputs": [],
      "source": [
        "!wget https://bit.ly/fruits_300_data -O fruits_300.npy"
      ]
    },
    {
      "cell_type": "code",
      "execution_count": null,
      "metadata": {
        "id": "gPW59yqhFIN1"
      },
      "outputs": [],
      "source": [
        "import numpy as np\n",
        "import matplotlib.pyplot as plt"
      ]
    },
    {
      "cell_type": "code",
      "execution_count": null,
      "metadata": {
        "id": "qqRMGn7eFYD9"
      },
      "outputs": [],
      "source": [
        "fruits = np.load('fruits_300.npy')"
      ]
    },
    {
      "cell_type": "code",
      "execution_count": null,
      "metadata": {
        "colab": {
          "base_uri": "https://localhost:8080/"
        },
        "id": "5B1YzrRuFfAr",
        "outputId": "491c11e5-252f-42a7-d1e2-cb7188ed91d8"
      },
      "outputs": [],
      "source": [
        "print(fruits.shape)"
      ]
    },
    {
      "cell_type": "code",
      "execution_count": null,
      "metadata": {
        "colab": {
          "base_uri": "https://localhost:8080/"
        },
        "id": "YXoynYBkFiL7",
        "outputId": "3c480967-a1f9-4b08-b116-511d60787563"
      },
      "outputs": [],
      "source": [
        "print(fruits[0, 0, :])"
      ]
    },
    {
      "cell_type": "code",
      "execution_count": null,
      "metadata": {
        "colab": {
          "base_uri": "https://localhost:8080/",
          "height": 268
        },
        "id": "p2k58pR_Fpls",
        "outputId": "0a23f0a2-8328-43a9-b901-c940dc1ae95d"
      },
      "outputs": [],
      "source": [
        "plt.imshow(fruits[0], cmap = 'gray')\n",
        "plt.show()"
      ]
    },
    {
      "cell_type": "code",
      "execution_count": null,
      "metadata": {
        "colab": {
          "base_uri": "https://localhost:8080/",
          "height": 268
        },
        "id": "dGjbhNKiF3DU",
        "outputId": "6d24b295-b40b-4f73-a5cb-f284a6b8b24a"
      },
      "outputs": [],
      "source": [
        "plt.imshow(fruits[0], cmap = 'gray_r')\n",
        "plt.show()"
      ]
    },
    {
      "cell_type": "code",
      "execution_count": null,
      "metadata": {
        "colab": {
          "base_uri": "https://localhost:8080/",
          "height": 203
        },
        "id": "G-7FVfY3GLA7",
        "outputId": "a2ffd2d1-5699-4b2c-cf82-314177bb2450"
      },
      "outputs": [],
      "source": [
        "fig, axs = plt.subplots(1, 2)\n",
        "axs[0].imshow(fruits[100], cmap = 'gray_r')\n",
        "axs[1].imshow(fruits[200], cmap = 'gray_r')\n",
        "plt.show()"
      ]
    },
    {
      "cell_type": "code",
      "execution_count": null,
      "metadata": {
        "id": "Mw91FfuXGe-D"
      },
      "outputs": [],
      "source": [
        "apple = fruits[0:100].reshape(-1, 100 * 100)\n",
        "pineapple = fruits[100:200].reshape(-1, 100 * 100)\n",
        "banana = fruits[200:300].reshape(-1, 100 * 100)"
      ]
    },
    {
      "cell_type": "code",
      "execution_count": null,
      "metadata": {
        "colab": {
          "base_uri": "https://localhost:8080/"
        },
        "id": "3pJGfDH-HVa8",
        "outputId": "72fe968e-ac01-4d63-a91a-c9bc12e712af"
      },
      "outputs": [],
      "source": [
        "print(apple.shape)"
      ]
    },
    {
      "cell_type": "code",
      "execution_count": null,
      "metadata": {
        "colab": {
          "base_uri": "https://localhost:8080/"
        },
        "id": "Lv3CkoonHYGL",
        "outputId": "ccfebb50-ab66-4d8b-efb4-3eeaa32044e5"
      },
      "outputs": [],
      "source": [
        "print(apple.mean(axis = 1))"
      ]
    },
    {
      "cell_type": "code",
      "execution_count": null,
      "metadata": {
        "colab": {
          "base_uri": "https://localhost:8080/",
          "height": 265
        },
        "id": "6odeqNTBHw8i",
        "outputId": "0abea74c-6383-41d3-f3b8-94408f500ad4"
      },
      "outputs": [],
      "source": [
        "plt.hist(np.mean(apple, axis = 1), alpha = 0.8)\n",
        "plt.hist(pineapple.mean(axis = 1), alpha = 0.8)\n",
        "plt.hist(banana.mean(axis = 1), alpha = 0.8)\n",
        "plt.legend(['apple', 'pineapple', 'banana'])\n",
        "plt.show()"
      ]
    },
    {
      "cell_type": "code",
      "execution_count": null,
      "metadata": {
        "colab": {
          "base_uri": "https://localhost:8080/",
          "height": 320
        },
        "id": "VhnLD5OHIc-c",
        "outputId": "f95a3c76-80c6-421a-f566-0f4aba152e01"
      },
      "outputs": [],
      "source": [
        "fig, axs = plt.subplots(1, 3, figsize = (20, 5))\n",
        "axs[0].bar(range(10000), apple.mean(axis = 0))\n",
        "axs[1].bar(range(10000), pineapple.mean(axis = 0))\n",
        "axs[2].bar(range(10000), banana.mean(axis = 0))\n",
        "plt.show()"
      ]
    },
    {
      "cell_type": "code",
      "execution_count": null,
      "metadata": {
        "colab": {
          "base_uri": "https://localhost:8080/",
          "height": 322
        },
        "id": "kQfMM4ThI6tt",
        "outputId": "b4ce1e05-68af-49f5-fbca-59e26795ca77"
      },
      "outputs": [],
      "source": [
        "apple_mean = apple.mean(axis = 0).reshape(100, 100)\n",
        "pineapple_mean = pineapple.mean(axis = 0).reshape(100, 100)\n",
        "banana_mean = banana.mean(axis = 0).reshape(100, 100)\n",
        "fig, axs = plt.subplots(1, 3, figsize = (20, 5))\n",
        "axs[0].imshow(apple_mean, cmap = 'gray_r')\n",
        "axs[1].imshow(pineapple_mean, cmap = 'gray_r')\n",
        "axs[2].imshow(banana_mean, cmap = 'gray_r')\n",
        "plt.show()"
      ]
    },
    {
      "cell_type": "code",
      "execution_count": null,
      "metadata": {
        "colab": {
          "base_uri": "https://localhost:8080/"
        },
        "id": "QXPezHo_Kh-1",
        "outputId": "5b3643bd-601e-426e-b9cc-57d546742f85"
      },
      "outputs": [],
      "source": [
        "abs_diff = np.abs(fruits - apple_mean)\n",
        "abs_mean = np.mean(abs_diff, axis = (1,2))\n",
        "print(abs_mean.shape)"
      ]
    },
    {
      "cell_type": "code",
      "execution_count": null,
      "metadata": {
        "colab": {
          "base_uri": "https://localhost:8080/",
          "height": 574
        },
        "id": "BZqJYs0iLTEt",
        "outputId": "1b93bccc-73e6-4c8f-9c20-b2e98b366f03"
      },
      "outputs": [],
      "source": [
        "apple_index = np.argsort(abs_mean)[:100]\n",
        "fig, axs = plt.subplots(10, 10, figsize = (10, 10))\n",
        "for i in range(10):\n",
        "  for j in range(10):\n",
        "    axs[i, j].imshow(fruits[apple_index[i*10 + j]], cmap = 'gray_r')\n",
        "    axs[i, j].axis('off')\n",
        "plt.show()"
      ]
    },
    {
      "cell_type": "code",
      "execution_count": null,
      "metadata": {
        "colab": {
          "base_uri": "https://localhost:8080/"
        },
        "id": "q1wpyiAnL20d",
        "outputId": "3ff0c819-7936-49e5-955b-1d69c691f8f5"
      },
      "outputs": [],
      "source": [
        "abs_diff = np.abs(fruits - banana_mean)\n",
        "abs_mean = np.mean(abs_diff, axis = (1,2))\n",
        "print(abs_mean.shape)"
      ]
    },
    {
      "cell_type": "code",
      "execution_count": null,
      "metadata": {
        "colab": {
          "base_uri": "https://localhost:8080/",
          "height": 574
        },
        "id": "LkbYURtQNDfM",
        "outputId": "403777a3-c22a-4832-e91d-3730c9963624"
      },
      "outputs": [],
      "source": [
        "banana_index = np.argsort(abs_mean)[:100]\n",
        "fig, axs = plt.subplots(10, 10, figsize = (10, 10))\n",
        "for i in range(10):\n",
        "  for j in range(10):\n",
        "    axs[i, j].imshow(fruits[banana_index[i*10 + j]], cmap = 'gray_r')\n",
        "    axs[i, j].axis('off')\n",
        "plt.show()"
      ]
    }
  ],
  "metadata": {
    "colab": {
      "name": "Untitled1.ipynb",
      "provenance": []
    },
    "kernelspec": {
      "display_name": "Python 3",
      "name": "python3"
    },
    "language_info": {
      "name": "python"
    }
  },
  "nbformat": 4,
  "nbformat_minor": 0
}
